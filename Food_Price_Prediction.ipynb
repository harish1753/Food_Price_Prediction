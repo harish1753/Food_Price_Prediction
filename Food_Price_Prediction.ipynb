{
 "cells": [
  {
   "cell_type": "markdown",
   "id": "b5be50bd",
   "metadata": {},
   "source": [
    "My name is Harish Kumber. I have done this project on my own. I have not cheated from others including my friends, professor, Tas etc. If it is found that I have done cheating or used any malpractice, I come under action according to institute rules. "
   ]
  },
  {
   "cell_type": "code",
   "execution_count": 115,
   "id": "834f2a58",
   "metadata": {},
   "outputs": [],
   "source": [
    "#Importing the required library\n",
    "import numpy as np\n",
    "import matplotlib.pyplot as plt\n",
    "import pandas as pd\n",
    "from tqdm import tqdm "
   ]
  },
  {
   "cell_type": "code",
   "execution_count": 116,
   "id": "dd110df1",
   "metadata": {},
   "outputs": [],
   "source": [
    "data=pd.read_csv('restaurent.csv') #Loading the required csv file"
   ]
  },
  {
   "cell_type": "code",
   "execution_count": 164,
   "id": "3070824b",
   "metadata": {
    "scrolled": false
   },
   "outputs": [
    {
     "name": "stdout",
     "output_type": "stream",
     "text": [
      "     food  decor  service  price\n",
      "61   20.0   12.0     17.0   22.0\n",
      "43   20.0   23.0     16.0   44.0\n",
      "103  24.0   14.0     21.0   53.0\n",
      "110  18.0   14.0     16.0   30.0\n",
      "70   20.0   18.0     20.0   48.0\n",
      "..    ...    ...      ...    ...\n",
      "104  22.0   19.0     18.0   44.0\n",
      "39   21.0   22.0     20.0   41.0\n",
      "101  21.0   21.0     19.0   33.0\n",
      "71   21.0   21.0     19.0   33.0\n",
      "47   18.0   14.0     16.0   20.0\n",
      "\n",
      "[104 rows x 4 columns]\n",
      "     food  decor  service  price\n",
      "111  17.0   17.0     18.0   34.0\n",
      "91   19.0   16.0     18.0   25.0\n",
      "7    21.0   12.0     19.0   29.0\n",
      "98   20.0   21.0     19.0   33.0\n",
      "83   18.0   15.0     16.0   21.0\n",
      "49   14.0   21.0     17.0   36.0\n",
      "90   18.0   17.0     18.0   34.0\n",
      "109  20.0   21.0     18.0   40.0\n",
      "81   21.0    2.0     16.0   22.0\n",
      "44   26.0   27.0     26.0   65.0\n"
     ]
    },
    {
     "data": {
      "text/html": [
       "<div>\n",
       "<style scoped>\n",
       "    .dataframe tbody tr th:only-of-type {\n",
       "        vertical-align: middle;\n",
       "    }\n",
       "\n",
       "    .dataframe tbody tr th {\n",
       "        vertical-align: top;\n",
       "    }\n",
       "\n",
       "    .dataframe thead th {\n",
       "        text-align: right;\n",
       "    }\n",
       "</style>\n",
       "<table border=\"1\" class=\"dataframe\">\n",
       "  <thead>\n",
       "    <tr style=\"text-align: right;\">\n",
       "      <th></th>\n",
       "      <th>food</th>\n",
       "      <th>decor</th>\n",
       "      <th>service</th>\n",
       "      <th>price</th>\n",
       "    </tr>\n",
       "  </thead>\n",
       "  <tbody>\n",
       "    <tr>\n",
       "      <th>count</th>\n",
       "      <td>104.000000</td>\n",
       "      <td>104.000000</td>\n",
       "      <td>104.000000</td>\n",
       "      <td>104.000000</td>\n",
       "    </tr>\n",
       "    <tr>\n",
       "      <th>mean</th>\n",
       "      <td>19.625000</td>\n",
       "      <td>16.548077</td>\n",
       "      <td>17.701923</td>\n",
       "      <td>33.259615</td>\n",
       "    </tr>\n",
       "    <tr>\n",
       "      <th>std</th>\n",
       "      <td>2.489541</td>\n",
       "      <td>4.235495</td>\n",
       "      <td>2.851945</td>\n",
       "      <td>11.033044</td>\n",
       "    </tr>\n",
       "    <tr>\n",
       "      <th>min</th>\n",
       "      <td>14.000000</td>\n",
       "      <td>6.000000</td>\n",
       "      <td>10.000000</td>\n",
       "      <td>11.000000</td>\n",
       "    </tr>\n",
       "    <tr>\n",
       "      <th>25%</th>\n",
       "      <td>18.000000</td>\n",
       "      <td>14.000000</td>\n",
       "      <td>16.000000</td>\n",
       "      <td>25.000000</td>\n",
       "    </tr>\n",
       "    <tr>\n",
       "      <th>50%</th>\n",
       "      <td>20.000000</td>\n",
       "      <td>16.000000</td>\n",
       "      <td>18.000000</td>\n",
       "      <td>32.000000</td>\n",
       "    </tr>\n",
       "    <tr>\n",
       "      <th>75%</th>\n",
       "      <td>21.000000</td>\n",
       "      <td>19.250000</td>\n",
       "      <td>20.000000</td>\n",
       "      <td>41.000000</td>\n",
       "    </tr>\n",
       "    <tr>\n",
       "      <th>max</th>\n",
       "      <td>27.000000</td>\n",
       "      <td>28.000000</td>\n",
       "      <td>26.000000</td>\n",
       "      <td>64.000000</td>\n",
       "    </tr>\n",
       "  </tbody>\n",
       "</table>\n",
       "</div>"
      ],
      "text/plain": [
       "             food       decor     service       price\n",
       "count  104.000000  104.000000  104.000000  104.000000\n",
       "mean    19.625000   16.548077   17.701923   33.259615\n",
       "std      2.489541    4.235495    2.851945   11.033044\n",
       "min     14.000000    6.000000   10.000000   11.000000\n",
       "25%     18.000000   14.000000   16.000000   25.000000\n",
       "50%     20.000000   16.000000   18.000000   32.000000\n",
       "75%     21.000000   19.250000   20.000000   41.000000\n",
       "max     27.000000   28.000000   26.000000   64.000000"
      ]
     },
     "execution_count": 164,
     "metadata": {},
     "output_type": "execute_result"
    }
   ],
   "source": [
    "# eleminating the values which have blanks and nan values\n",
    "for i in range(data.shape[1]):\n",
    "    data= data.iloc[data.iloc[:, i].notna().to_numpy()]\n",
    "\n",
    "# Selecting random 50 rows out of the total given rows\n",
    "np.random.seed(1289)\n",
    "indices = np.arange(data.shape[0]) #creating a new variable indices to select random variables\n",
    "np.random.shuffle(indices) \n",
    "train_data=data.iloc[indices[:int(0.92*len(indices))]]\n",
    "test_data=data.iloc[indices[int(0.92*len(indices)):]]\n",
    "\n",
    "\n",
    "#Seeing the splitted and random data \n",
    "print(train_data)\n",
    "print(test_data)\n",
    "\n",
    "#Seeing some mean,minimum of randomly selected data\n",
    "train_data.describe()"
   ]
  },
  {
   "cell_type": "code",
   "execution_count": 165,
   "id": "11613a2d",
   "metadata": {
    "scrolled": false
   },
   "outputs": [
    {
     "data": {
      "image/png": "[encoded data removed]",
      "text/plain": [
       "<Figure size 432x288 with 1 Axes>"
      ]
     },
     "metadata": {
      "needs_background": "light"
     },
     "output_type": "display_data"
    },
    {
     "data": {
      "image/png": "[encoded data removed]",
      "text/plain": [
       "<Figure size 432x288 with 1 Axes>"
      ]
     },
     "metadata": {
      "needs_background": "light"
     },
     "output_type": "display_data"
    },
    {
     "data": {
      "image/png": "[encoded data removed]",
      "text/plain": [
       "<Figure size 432x288 with 1 Axes>"
      ]
     },
     "metadata": {
      "needs_background": "light"
     },
     "output_type": "display_data"
    },
    {
     "data": {
      "text/plain": [
       "<Figure size 432x288 with 0 Axes>"
      ]
     },
     "metadata": {},
     "output_type": "display_data"
    }
   ],
   "source": [
    "#Q1 \n",
    "#Taking variable for axis\n",
    "y_axis=train_data['price'] # Storing prices of food in y_axis variables\n",
    "x1_axis=train_data['food'] \n",
    "x2_axis=train_data['decor']\n",
    "x3_axis=train_data['service']\n",
    "\n",
    "#Plotting price vs food\n",
    "plt.scatter(x1_axis,y_axis)\n",
    "plt.xlabel('food')\n",
    "plt.ylabel('price')\n",
    "plt.show()\n",
    "plt.clf()\n",
    "\n",
    "#Plotting price vs decore\n",
    "plt.scatter(x2_axis,y_axis)\n",
    "plt.xlabel('decor')\n",
    "plt.ylabel('price')\n",
    "plt.show()\n",
    "plt.clf()\n",
    "\n",
    "#Plotting price vs service\n",
    "plt.scatter(x3_axis,y_axis)\n",
    "plt.xlabel('service')\n",
    "plt.ylabel('price')\n",
    "plt.show()\n",
    "plt.clf()"
   ]
  },
  {
   "cell_type": "code",
   "execution_count": 166,
   "id": "c4d84156",
   "metadata": {
    "scrolled": true
   },
   "outputs": [
    {
     "data": {
      "text/html": [
       "<div>\n",
       "<style scoped>\n",
       "    .dataframe tbody tr th:only-of-type {\n",
       "        vertical-align: middle;\n",
       "    }\n",
       "\n",
       "    .dataframe tbody tr th {\n",
       "        vertical-align: top;\n",
       "    }\n",
       "\n",
       "    .dataframe thead th {\n",
       "        text-align: right;\n",
       "    }\n",
       "</style>\n",
       "<table border=\"1\" class=\"dataframe\">\n",
       "  <thead>\n",
       "    <tr style=\"text-align: right;\">\n",
       "      <th></th>\n",
       "      <th>food</th>\n",
       "      <th>decor</th>\n",
       "      <th>service</th>\n",
       "      <th>price</th>\n",
       "    </tr>\n",
       "  </thead>\n",
       "  <tbody>\n",
       "    <tr>\n",
       "      <th>61</th>\n",
       "      <td>20.0</td>\n",
       "      <td>12.0</td>\n",
       "      <td>17.0</td>\n",
       "      <td>22.0</td>\n",
       "    </tr>\n",
       "    <tr>\n",
       "      <th>43</th>\n",
       "      <td>20.0</td>\n",
       "      <td>23.0</td>\n",
       "      <td>16.0</td>\n",
       "      <td>44.0</td>\n",
       "    </tr>\n",
       "    <tr>\n",
       "      <th>103</th>\n",
       "      <td>24.0</td>\n",
       "      <td>14.0</td>\n",
       "      <td>21.0</td>\n",
       "      <td>53.0</td>\n",
       "    </tr>\n",
       "    <tr>\n",
       "      <th>110</th>\n",
       "      <td>18.0</td>\n",
       "      <td>14.0</td>\n",
       "      <td>16.0</td>\n",
       "      <td>30.0</td>\n",
       "    </tr>\n",
       "    <tr>\n",
       "      <th>70</th>\n",
       "      <td>20.0</td>\n",
       "      <td>18.0</td>\n",
       "      <td>20.0</td>\n",
       "      <td>48.0</td>\n",
       "    </tr>\n",
       "  </tbody>\n",
       "</table>\n",
       "</div>"
      ],
      "text/plain": [
       "     food  decor  service  price\n",
       "61   20.0   12.0     17.0   22.0\n",
       "43   20.0   23.0     16.0   44.0\n",
       "103  24.0   14.0     21.0   53.0\n",
       "110  18.0   14.0     16.0   30.0\n",
       "70   20.0   18.0     20.0   48.0"
      ]
     },
     "execution_count": 166,
     "metadata": {},
     "output_type": "execute_result"
    }
   ],
   "source": [
    "train_data.head()"
   ]
  },
  {
   "cell_type": "code",
   "execution_count": 167,
   "id": "0ba006a9",
   "metadata": {},
   "outputs": [
    {
     "data": {
      "text/html": [
       "<div>\n",
       "<style scoped>\n",
       "    .dataframe tbody tr th:only-of-type {\n",
       "        vertical-align: middle;\n",
       "    }\n",
       "\n",
       "    .dataframe tbody tr th {\n",
       "        vertical-align: top;\n",
       "    }\n",
       "\n",
       "    .dataframe thead th {\n",
       "        text-align: right;\n",
       "    }\n",
       "</style>\n",
       "<table border=\"1\" class=\"dataframe\">\n",
       "  <thead>\n",
       "    <tr style=\"text-align: right;\">\n",
       "      <th></th>\n",
       "      <th>food</th>\n",
       "      <th>decor</th>\n",
       "      <th>service</th>\n",
       "      <th>price</th>\n",
       "    </tr>\n",
       "  </thead>\n",
       "  <tbody>\n",
       "    <tr>\n",
       "      <th>count</th>\n",
       "      <td>104.000000</td>\n",
       "      <td>104.000000</td>\n",
       "      <td>104.000000</td>\n",
       "      <td>104.000000</td>\n",
       "    </tr>\n",
       "    <tr>\n",
       "      <th>mean</th>\n",
       "      <td>19.625000</td>\n",
       "      <td>16.548077</td>\n",
       "      <td>17.701923</td>\n",
       "      <td>33.259615</td>\n",
       "    </tr>\n",
       "    <tr>\n",
       "      <th>std</th>\n",
       "      <td>2.489541</td>\n",
       "      <td>4.235495</td>\n",
       "      <td>2.851945</td>\n",
       "      <td>11.033044</td>\n",
       "    </tr>\n",
       "    <tr>\n",
       "      <th>min</th>\n",
       "      <td>14.000000</td>\n",
       "      <td>6.000000</td>\n",
       "      <td>10.000000</td>\n",
       "      <td>11.000000</td>\n",
       "    </tr>\n",
       "    <tr>\n",
       "      <th>25%</th>\n",
       "      <td>18.000000</td>\n",
       "      <td>14.000000</td>\n",
       "      <td>16.000000</td>\n",
       "      <td>25.000000</td>\n",
       "    </tr>\n",
       "    <tr>\n",
       "      <th>50%</th>\n",
       "      <td>20.000000</td>\n",
       "      <td>16.000000</td>\n",
       "      <td>18.000000</td>\n",
       "      <td>32.000000</td>\n",
       "    </tr>\n",
       "    <tr>\n",
       "      <th>75%</th>\n",
       "      <td>21.000000</td>\n",
       "      <td>19.250000</td>\n",
       "      <td>20.000000</td>\n",
       "      <td>41.000000</td>\n",
       "    </tr>\n",
       "    <tr>\n",
       "      <th>max</th>\n",
       "      <td>27.000000</td>\n",
       "      <td>28.000000</td>\n",
       "      <td>26.000000</td>\n",
       "      <td>64.000000</td>\n",
       "    </tr>\n",
       "  </tbody>\n",
       "</table>\n",
       "</div>"
      ],
      "text/plain": [
       "             food       decor     service       price\n",
       "count  104.000000  104.000000  104.000000  104.000000\n",
       "mean    19.625000   16.548077   17.701923   33.259615\n",
       "std      2.489541    4.235495    2.851945   11.033044\n",
       "min     14.000000    6.000000   10.000000   11.000000\n",
       "25%     18.000000   14.000000   16.000000   25.000000\n",
       "50%     20.000000   16.000000   18.000000   32.000000\n",
       "75%     21.000000   19.250000   20.000000   41.000000\n",
       "max     27.000000   28.000000   26.000000   64.000000"
      ]
     },
     "execution_count": 167,
     "metadata": {},
     "output_type": "execute_result"
    }
   ],
   "source": [
    "train_data.describe()"
   ]
  },
  {
   "cell_type": "code",
   "execution_count": 168,
   "id": "6c98a610",
   "metadata": {},
   "outputs": [],
   "source": [
    "#function for pre-processing the data\n",
    "def pre_process(data, train=True):\n",
    " \n",
    "    for i in range(data.shape[1]):\n",
    "        data = data.iloc[data.iloc[:, i].notna().to_numpy()] #remove the NaN values from data\n",
    "        \n",
    "# If data is for training that data will process from here\n",
    "    if train:\n",
    "        mu = data.iloc[:, :-1].mean(0)  # calculate mean\n",
    "        sigma = data.iloc[:, :-1].std(0)    # calculate std\n",
    "        \n",
    "        #Assigning X_train variables for storing decor, servivce and food \n",
    "        #y_train for price\n",
    "        X_train, y_train = data.iloc[:, :-1], data.iloc[: ,-1]\n",
    "        \n",
    "        # normalize the training set\n",
    "        X_train -= mu\n",
    "        X_train /= sigma   \n",
    "    \n",
    "        \n",
    "        print(f'\\nTraining Size: {X_train.shape[0]}')\n",
    "        print(f'Number of features: {X_train.shape[1]}')\n",
    "\n",
    "        return X_train, y_train.to_numpy()\n",
    "\n",
    "    else:\n",
    "        mu = data.mean(0)   # calculate mean\n",
    "        sigma = data.std(0) # calculate std\n",
    "        X_test = data\n",
    "        X_test -= mu\n",
    "        X_test /= sigma # normalize the test set\n",
    "      \n",
    "        \n",
    "        print(f'Testing Size: {X_test.shape[0]}')\n",
    "        return X_test"
   ]
  },
  {
   "cell_type": "code",
   "execution_count": 169,
   "id": "0952df89",
   "metadata": {},
   "outputs": [
    {
     "name": "stdout",
     "output_type": "stream",
     "text": [
      "\n",
      "Training Size: 104\n",
      "Number of features: 3\n",
      "Testing Size: 10\n",
      "<class 'numpy.ndarray'>\n"
     ]
    }
   ],
   "source": [
    "X_train, y_train= pre_process(train_data)    # pre-process the training data\n",
    "y_test=test_data.iloc[:,-1].to_numpy()\n",
    "X_test=test_data.iloc[:,:-1]\n",
    "X_test = pre_process(X_test, train=False) \n",
    "print(type(y_test))"
   ]
  },
  {
   "cell_type": "code",
   "execution_count": 170,
   "id": "df238d66",
   "metadata": {},
   "outputs": [
    {
     "name": "stdout",
     "output_type": "stream",
     "text": [
      "<class 'pandas.core.frame.DataFrame'>\n",
      "Int64Index: 104 entries, 61 to 47\n",
      "Data columns (total 3 columns):\n",
      " #   Column   Non-Null Count  Dtype  \n",
      "---  ------   --------------  -----  \n",
      " 0   food     104 non-null    float64\n",
      " 1   decor    104 non-null    float64\n",
      " 2   service  104 non-null    float64\n",
      "dtypes: float64(3)\n",
      "memory usage: 3.2 KB\n"
     ]
    }
   ],
   "source": [
    "X_train.info()"
   ]
  },
  {
   "cell_type": "code",
   "execution_count": 171,
   "id": "eb7fd3de",
   "metadata": {},
   "outputs": [
    {
     "name": "stdout",
     "output_type": "stream",
     "text": [
      "<class 'pandas.core.frame.DataFrame'>\n",
      "Int64Index: 10 entries, 111 to 44\n",
      "Data columns (total 3 columns):\n",
      " #   Column   Non-Null Count  Dtype  \n",
      "---  ------   --------------  -----  \n",
      " 0   food     10 non-null     float64\n",
      " 1   decor    10 non-null     float64\n",
      " 2   service  10 non-null     float64\n",
      "dtypes: float64(3)\n",
      "memory usage: 320.0 bytes\n"
     ]
    }
   ],
   "source": [
    "X_test.info()"
   ]
  },
  {
   "cell_type": "code",
   "execution_count": 172,
   "id": "42f2687d",
   "metadata": {},
   "outputs": [
    {
     "name": "stdout",
     "output_type": "stream",
     "text": [
      "<class 'numpy.ndarray'>\n"
     ]
    }
   ],
   "source": [
    "from sklearn.linear_model import LinearRegression\n",
    "reg = LinearRegression().fit(X_train,y_train)  # instantiate the sklearn linear regression model\n",
    "y_pre=reg.predict(X_test)\n",
    "print(type(y_pre))"
   ]
  },
  {
   "cell_type": "code",
   "execution_count": 173,
   "id": "9c266d28",
   "metadata": {},
   "outputs": [
    {
     "data": {
      "text/html": [
       "<div>\n",
       "<style scoped>\n",
       "    .dataframe tbody tr th:only-of-type {\n",
       "        vertical-align: middle;\n",
       "    }\n",
       "\n",
       "    .dataframe tbody tr th {\n",
       "        vertical-align: top;\n",
       "    }\n",
       "\n",
       "    .dataframe thead th {\n",
       "        text-align: right;\n",
       "    }\n",
       "</style>\n",
       "<table border=\"1\" class=\"dataframe\">\n",
       "  <thead>\n",
       "    <tr style=\"text-align: right;\">\n",
       "      <th></th>\n",
       "      <th>pred</th>\n",
       "      <th>test</th>\n",
       "    </tr>\n",
       "  </thead>\n",
       "  <tbody>\n",
       "    <tr>\n",
       "      <th>0</th>\n",
       "      <td>30.058374</td>\n",
       "      <td>34.0</td>\n",
       "    </tr>\n",
       "    <tr>\n",
       "      <th>1</th>\n",
       "      <td>31.666478</td>\n",
       "      <td>25.0</td>\n",
       "    </tr>\n",
       "    <tr>\n",
       "      <th>2</th>\n",
       "      <td>32.084770</td>\n",
       "      <td>29.0</td>\n",
       "    </tr>\n",
       "    <tr>\n",
       "      <th>3</th>\n",
       "      <td>37.382485</td>\n",
       "      <td>33.0</td>\n",
       "    </tr>\n",
       "    <tr>\n",
       "      <th>4</th>\n",
       "      <td>27.858137</td>\n",
       "      <td>21.0</td>\n",
       "    </tr>\n",
       "    <tr>\n",
       "      <th>5</th>\n",
       "      <td>28.477102</td>\n",
       "      <td>36.0</td>\n",
       "    </tr>\n",
       "    <tr>\n",
       "      <th>6</th>\n",
       "      <td>31.221353</td>\n",
       "      <td>34.0</td>\n",
       "    </tr>\n",
       "    <tr>\n",
       "      <th>7</th>\n",
       "      <td>36.418732</td>\n",
       "      <td>40.0</td>\n",
       "    </tr>\n",
       "    <tr>\n",
       "      <th>8</th>\n",
       "      <td>22.014961</td>\n",
       "      <td>22.0</td>\n",
       "    </tr>\n",
       "    <tr>\n",
       "      <th>9</th>\n",
       "      <td>55.413763</td>\n",
       "      <td>65.0</td>\n",
       "    </tr>\n",
       "  </tbody>\n",
       "</table>\n",
       "</div>"
      ],
      "text/plain": [
       "        pred  test\n",
       "0  30.058374  34.0\n",
       "1  31.666478  25.0\n",
       "2  32.084770  29.0\n",
       "3  37.382485  33.0\n",
       "4  27.858137  21.0\n",
       "5  28.477102  36.0\n",
       "6  31.221353  34.0\n",
       "7  36.418732  40.0\n",
       "8  22.014961  22.0\n",
       "9  55.413763  65.0"
      ]
     },
     "execution_count": 173,
     "metadata": {},
     "output_type": "execute_result"
    }
   ],
   "source": [
    "y=pd.DataFrame({'pred':y_pre,'test':y_test})\n",
    "y"
   ]
  },
  {
   "cell_type": "code",
   "execution_count": 174,
   "id": "15e85c8b",
   "metadata": {},
   "outputs": [
    {
     "name": "stdout",
     "output_type": "stream",
     "text": [
      "Mean Absolute Error: 4.84175058392458\n",
      "Mean Squared Error: 30.477087749389597\n",
      "Root Mean Squared Error: 5.520605741165511\n",
      "R-squared: 0.7855085667577619\n"
     ]
    }
   ],
   "source": [
    "from sklearn.metrics import mean_absolute_error, mean_squared_error, r2_score\n",
    "\n",
    "# Assuming y_pre contains the predicted regression values\n",
    "mae = mean_absolute_error(y_test, y_pre)\n",
    "mse = mean_squared_error(y_test, y_pre)\n",
    "rmse = mean_squared_error(y_test, y_pre, squared=False)\n",
    "r2 = r2_score(y_test, y_pre)\n",
    "\n",
    "print(f\"Mean Absolute Error: {mae}\")\n",
    "print(f\"Mean Squared Error: {mse}\")\n",
    "print(f\"Root Mean Squared Error: {rmse}\")\n",
    "print(f\"R-squared: {r2}\")"
   ]
  },
  {
   "cell_type": "code",
   "execution_count": 163,
   "id": "4d1cbb5f",
   "metadata": {},
   "outputs": [
    {
     "name": "stdout",
     "output_type": "stream",
     "text": [
      "Predicted price of meal: 31.128939809950648\n",
      "95 predicted interval: 12.353511661116032\n"
     ]
    }
   ],
   "source": [
    "#Q2 \n",
    "y_predicted=reg.predict(X_test)[0]  # predictions for test data\n",
    "print('Predicted price of meal: %s' %y_predicted)\n",
    "sum_errs = sum((y_train-reg.predict(X_train) )**2) #sum of errors for calculating interval\n",
    "stdev = np.sqrt(1/(len(y_train)-2) * sum_errs) #Calculating standard deviation \n",
    "interval = 1.96 * stdev  #Calculating 95% predictive interval\n",
    "print('95 predicted interval: %s' %interval)"
   ]
  },
  {
   "cell_type": "code",
   "execution_count": 283,
   "id": "f1751148",
   "metadata": {},
   "outputs": [
    {
     "name": "stdout",
     "output_type": "stream",
     "text": [
      "coeffiecient for variable food: 0.02402235673118014\n",
      "Note=I have preprocessed data so depending on it w values may vary\n"
     ]
    }
   ],
   "source": [
    "#Q3\n",
    "#if we hold the value of service and decor constant and increase food by 1, then price goes up by value of coefficient of food\n",
    "# calculating coefficient of variable food\n",
    "variable_food=reg.predict(X_test)[1]-reg.predict(X_test)[0]\n",
    "print('coeffiecient for variable food: %s'%variable_food)\n",
    "print('Note=I have preprocessed data so depending on it w values may vary')"
   ]
  },
  {
   "cell_type": "code",
   "execution_count": 278,
   "id": "776a097a",
   "metadata": {
    "scrolled": true
   },
   "outputs": [
    {
     "name": "stdout",
     "output_type": "stream",
     "text": [
      "coefficient for food variable: 0.10887611672644226\n"
     ]
    },
    {
     "data": {
      "image/png": "[encoded data removed]",
      "text/plain": [
       "<Figure size 432x288 with 1 Axes>"
      ]
     },
     "metadata": {
      "needs_background": "light"
     },
     "output_type": "display_data"
    }
   ],
   "source": [
    "#Q4\n",
    "#plotting food vs service \n",
    "plt.xlabel('service')\n",
    "plt.ylabel('food')\n",
    "plt.scatter(x3_axis,x1_axis)\n",
    "\n",
    "# Doing linear regression assuming that price only depends on food quality \n",
    "new_X_train=pd.DataFrame({'food':X_train['food']}) # creating variables which contains food values only\n",
    "new_test=pd.DataFrame({'food':X_test['food']}) \n",
    "new_reg = LinearRegression().fit(new_X_train,y_train)\n",
    "\n",
    "#Calculating coefficent for food variable\n",
    "new_coefficient=new_reg.predict(new_test)[1]-new_reg.predict(new_test)[0]\n",
    "print('coefficient for food variable: %s' %(new_coefficient))"
   ]
  }
 ],
 "metadata": {
  "kernelspec": {
   "display_name": "Python 3 (ipykernel)",
   "language": "python",
   "name": "python3"
  },
  "language_info": {
   "codemirror_mode": {
    "name": "ipython",
    "version": 3
   },
   "file_extension": ".py",
   "mimetype": "text/x-python",
   "name": "python",
   "nbconvert_exporter": "python",
   "pygments_lexer": "ipython3",
   "version": "3.9.6"
  }
 },
 "nbformat": 4,
 "nbformat_minor": 5
}
